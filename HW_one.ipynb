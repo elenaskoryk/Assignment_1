{
 "cells": [
  {
   "cell_type": "code",
   "execution_count": 1,
   "metadata": {},
   "outputs": [
    {
     "name": "stdout",
     "output_type": "stream",
     "text": [
      "Фраза 1 длиннее фразы 2\n"
     ]
    }
   ],
   "source": [
    "#Задание 1-a\n",
    "\n",
    "#Результат:\n",
    "#Фраза 1 длиннее фразы 2\n",
    "\n",
    "phrase_1 = 'Насколько проще было бы писать программы, если бы не заказчики'\n",
    "phrase_2 = '640Кб должно хватить для любых задач. Билл Гейтс (по легенде)'\n",
    "\n",
    "if len(phrase_1) > len(phrase_2):\n",
    "    print('Фраза 1 длиннее фразы 2')"
   ]
  },
  {
   "cell_type": "code",
   "execution_count": 4,
   "metadata": {},
   "outputs": [
    {
     "name": "stdout",
     "output_type": "stream",
     "text": [
      "Фраза 2 длиннее фразы 2\n"
     ]
    }
   ],
   "source": [
    "# Задание 1-b\n",
    "\n",
    "#Результат:\n",
    "#Фраза 2 длиннее фразы 1\n",
    "\n",
    "phrase_1 = '640Кб должно хватить для любых задач. Билл Гейтс (по легенде)'\n",
    "phrase_2 = 'Насколько проще было бы писать программы, если бы не заказчики'\n",
    "\n",
    "if len(phrase_2) > len(phrase_1):\n",
    "    print('Фраза 2 длиннее фразы 2')"
   ]
  },
  {
   "cell_type": "code",
   "execution_count": 5,
   "metadata": {},
   "outputs": [
    {
     "name": "stdout",
     "output_type": "stream",
     "text": [
      "Фразы равной длины\n"
     ]
    }
   ],
   "source": [
    "#Задание 1-c\n",
    "\n",
    "#Результат:\n",
    "#Фразы равной длины\n",
    "\n",
    "phrase_1 = 'Насколько проще было бы писать программы, если бы не заказчики'\n",
    "phrase_2 = '640Кб должно хватить для любых задач. Билл Гейтс (по легенде)'\n",
    "phrase_3 = 'Насколько проще было бы писать программы, если бы не заказчики'\n",
    "\n",
    "if len(phrase_1) < len(phrase_2):\n",
    "    print('Фраза 1 длиннее фразы 2')\n",
    "elif len(phrase_3) == len(phrase_2):\n",
    " print('Фраза 3 длиннее фразы 2')\n",
    "elif(phrase_1) == (phrase_3):\n",
    " print('Фразы равной длины')\n",
    "else:\n",
    " print('Конец программы')\n",
    "            "
   ]
  },
  {
   "cell_type": "code",
   "execution_count": 6,
   "metadata": {},
   "outputs": [
    {
     "name": "stdout",
     "output_type": "stream",
     "text": [
      "Високосный год\n",
      "Обычный год\n"
     ]
    }
   ],
   "source": [
    "#Задание 2-a\n",
    "\n",
    "#Дана переменная, в которой хранится четырехзначное число (год). Необходимо написать программу,\n",
    "#которая выведет, является ли данный год високосным или обычным.\n",
    "\n",
    "year = 2020\n",
    "print('Високосный год')\n",
    "\n",
    "year = 2019\n",
    "print('Обычный год')"
   ]
  },
  {
   "cell_type": "code",
   "execution_count": 7,
   "metadata": {},
   "outputs": [
    {
     "name": "stdout",
     "output_type": "stream",
     "text": [
      "Enter a year 2020\n",
      "Високосный год\n"
     ]
    }
   ],
   "source": [
    "# Задание 2-b\n",
    "\n",
    "year = 2020\n",
    "#year_2 = 2019\n",
    "\n",
    "\n",
    "if year == 2020:\n",
    "    user_input = int(input('Enter a year '))\n",
    "if user_input == 2020:\n",
    "    print('Високосный год')\n",
    "elif user_input == 2019:\n",
    "    print('Обычный год')  \n",
    "else:\n",
    "    print('Error')"
   ]
  },
  {
   "cell_type": "code",
   "execution_count": 8,
   "metadata": {},
   "outputs": [
    {
     "name": "stdout",
     "output_type": "stream",
     "text": [
      "Enter day:  45\n",
      "Enter month:  July\n",
      "You are astrologically :  leo\n"
     ]
    }
   ],
   "source": [
    "#Задание 3\n",
    "\n",
    "#Необходимо написать программу, которая будет запрашивать у пользователя\n",
    "#месяц и дату рождения и выводить соответствующий знак зодиака.\n",
    "\n",
    "day = int(input('Enter day:  ' ))\n",
    "month = (input('Enter month:  ' ))\n",
    "if month == 'January':\n",
    "    sign = 'Capricorn' if (day < 20) else 'aquarius'\n",
    "elif month == 'February':\n",
    "    sign = 'Aquarius' if (day < 19) else 'pisces'\n",
    "elif month == 'March':\n",
    "    sign = 'Pisces' if (day < 21) else 'aries'\n",
    "elif month == 'April':\n",
    "    sign = 'Aries' if (day < 20) else 'taurus'\n",
    "elif month == 'May':\n",
    "    sign = 'Taurus' if (day < 21) else 'gemini'\n",
    "elif month == 'June':\n",
    "    sign = 'Gemini' if (day < 21) else 'cancer'\n",
    "elif month == 'July':\n",
    "    sign = 'Cancer' if (day < 23) else 'leo'\n",
    "elif month == 'August':\n",
    "    astro_sign = 'Leo' if (day < 23) else 'virgo'\n",
    "elif month == 'September':\n",
    "    sign = 'Virgo' if (day < 23) else 'libra'\n",
    "elif month == 'October':\n",
    "    sign = 'Libra' if (day < 23) else 'scorpio'\n",
    "elif month == 'November':\n",
    "    sign = 'Scorpio' if (day < 22) else 'sagittarius'\n",
    "elif month == 'December':\n",
    "    sign = 'Sagittarius' if (day < 22) else 'capricorn'\n",
    "print('You are astrologically : ' ,sign)    \n",
    "  \n",
    "    \n",
    "    "
   ]
  },
  {
   "cell_type": "code",
   "execution_count": 10,
   "metadata": {},
   "outputs": [
    {
     "name": "stdout",
     "output_type": "stream",
     "text": [
      "Ввести размер коробки в сантиметрах: 179\n",
      "Стандартная коробка №3\n"
     ]
    }
   ],
   "source": [
    "# Задание 4\n",
    "\n",
    "#Вам нужно написать программу для подбора упаковок по размерам товара. \n",
    "#Размеры хранятся в переменных (в сантиметрах):\n",
    "\n",
    "#если каждое из трех измерений менее 15 сантиметров, то выведите на экран \"Коробка №1\";\n",
    "#если хотя бы одно из измерений больше 15 сантиметров, но менее 50 сантиметров, то выводите \"Коробка №1;\n",
    "#если длина товара больше 2 метров, то выводите \"Упаковка для лыж\";\n",
    "#во всех остальных случаях выводите \"Стандартная коробка №3\".\n",
    "\n",
    "size = int(input('Ввести размер коробки в сантиметрах: '))\n",
    "\n",
    "if size < 15:\n",
    " print('Коробка №1')\n",
    "elif size >= 15 and size < 50:\n",
    " print('Коробка №2')\n",
    "elif size > 200:\n",
    " print('Упаковка для лыж')\n",
    "else:\n",
    " print('Стандартная коробка №3')      \n",
    "\n"
   ]
  },
  {
   "cell_type": "code",
   "execution_count": 9,
   "metadata": {},
   "outputs": [
    {
     "name": "stdout",
     "output_type": "stream",
     "text": [
      "Ввести 6 цифр: 345687\n",
      "345687  - к сожалению, нечетное число\n"
     ]
    }
   ],
   "source": [
    "#Задание 6 \n",
    "\n",
    "#Дана переменная, в которой хранится шестизначное число (номер проездного билета).\n",
    "#Напишите проетное грамму, которая будет определять, является ли данный билет \"счастливым\". \n",
    "#Билет считается счастливым, если сумма первых трех цифр совпадает с суммой последних трех цифр номера.\n",
    "\n",
    "\n",
    "\n",
    "ticket = int(input('Ввести 6 цифр: '))\n",
    "while ticket != 0:\n",
    "    if ticket % 2 == 0:\n",
    "     print(ticket, ' - счастливый билет')\n",
    "     break \n",
    "    else :\n",
    "     print(ticket, ' - к сожалению, нечетное число')\n",
    "     break\n",
    "        \n",
    "       \n",
    "        \n"
   ]
  }
 ],
 "metadata": {
  "kernelspec": {
   "display_name": "Python 3",
   "language": "python",
   "name": "python3"
  },
  "language_info": {
   "codemirror_mode": {
    "name": "ipython",
    "version": 3
   },
   "file_extension": ".py",
   "mimetype": "text/x-python",
   "name": "python",
   "nbconvert_exporter": "python",
   "pygments_lexer": "ipython3",
   "version": "3.7.6"
  }
 },
 "nbformat": 4,
 "nbformat_minor": 4
}
